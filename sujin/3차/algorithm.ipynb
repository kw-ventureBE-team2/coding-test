{
  "cells": [
    {
      "cell_type": "markdown",
      "metadata": {
        "id": "zk_p-Wgc9NJO"
      },
      "source": [
        "# 3차"
      ]
    },
    {
      "cell_type": "markdown",
      "metadata": {
        "id": "JHiZ07fq9PdD"
      },
      "source": [
        "2675"
      ]
    },
    {
      "cell_type": "code",
      "execution_count": null,
      "metadata": {
        "id": "YNYNqPmE9PFb"
      },
      "outputs": [],
      "source": [
        "a = int(input())\n",
        "for i in range(a):\n",
        "  b, c = input().split()\n",
        "  for i in range(len(c)):\n",
        "    print(int(b) * c[i], end='')\n",
        "  print()"
      ]
    },
    {
      "cell_type": "markdown",
      "metadata": {
        "id": "vslU7lYi9W-V"
      },
      "source": [
        "1152"
      ]
    },
    {
      "cell_type": "code",
      "execution_count": null,
      "metadata": {
        "id": "tqE9qCao9Xz9"
      },
      "outputs": [],
      "source": [
        "words = input().split()\n",
        "print(len(words))"
      ]
    },
    {
      "cell_type": "markdown",
      "metadata": {
        "id": "LPQqUonG9ZCG"
      },
      "source": [
        "1157"
      ]
    },
    {
      "cell_type": "code",
      "execution_count": null,
      "metadata": {
        "id": "OMcj5iyS9Z1M"
      },
      "outputs": [],
      "source": [
        "word = input().upper()\n",
        "word_list = list(set(word))\n",
        "list = []\n",
        "\n",
        "for i in word_list:\n",
        "    count = word.count(i)\n",
        "    list.append(count)\n",
        "\n",
        "if list.count(max(list))>= 2:\n",
        "    print(\"?\")\n",
        "else:\n",
        "    print(word_list[list.index(max(list))])"
      ]
    },
    {
      "cell_type": "markdown",
      "metadata": {
        "id": "WhYzC_xx-RyP"
      },
      "source": [
        "1316"
      ]
    },
    {
      "cell_type": "code",
      "execution_count": null,
      "metadata": {
        "id": "GLqXv_n0RTpz"
      },
      "outputs": [],
      "source": [
        "num = int(input())\n",
        "cnt = num\n",
        "\n",
        "for i in range(num):\n",
        "    word = input()\n",
        "    for j in range(0, len(word)-1):\n",
        "        if word[j] == word[j+1]:\n",
        "            pass\n",
        "        elif word[j] in word[j+1:]:\n",
        "            cnt -= 1\n",
        "            break\n",
        "print(cnt)"
      ]
    },
    {
      "cell_type": "markdown",
      "metadata": {
        "id": "6EDl_u7cTDH0"
      },
      "source": [
        "심화 1\n",
        "\n",
        "25083"
      ]
    },
    {
      "cell_type": "code",
      "execution_count": null,
      "metadata": {
        "id": "lGM1w3hiTKNN"
      },
      "outputs": [],
      "source": [
        "print(\"         ,r\\'\\\"7\")\n",
        "print(\"r`-_   ,\\'  ,/\")\n",
        "print(\" \\\\. \\\". L_r\\'\")\n",
        "print(\"   `~\\\\/\")\n",
        "print(\"      |\")\n",
        "print(\"      |\")"
      ]
    },
    {
      "cell_type": "markdown",
      "metadata": {
        "id": "En24do9NTrnC"
      },
      "source": [
        "3003"
      ]
    },
    {
      "cell_type": "code",
      "execution_count": null,
      "metadata": {
        "id": "aCT0G94nTxcA"
      },
      "outputs": [],
      "source": [
        "piece = [1, 1, 2, 2, 2, 8]\n",
        "input = list(map(int, input().split()))\n",
        "\n",
        "for i in range(len(piece)):\n",
        "  print(piece[i] - input[i], end=' ')"
      ]
    },
    {
      "cell_type": "markdown",
      "metadata": {
        "id": "jEUMoijdUKgu"
      },
      "source": [
        "2444"
      ]
    },
    {
      "cell_type": "code",
      "execution_count": null,
      "metadata": {
        "id": "V0kIixLHUZN9"
      },
      "outputs": [],
      "source": [
        "n = int(input())\n",
        "for i in range(1,n+1):\n",
        "    print(\" \"*(n-i) + \"*\"*(2*i-1))\n",
        "for i in range(n-1, 0, -1):\n",
        "    print(\" \"*(n-i) + \"*\"*(2*i-1))"
      ]
    },
    {
      "cell_type": "markdown",
      "metadata": {
        "id": "wtc-GnX5UhZB"
      },
      "source": [
        "10988"
      ]
    },
    {
      "cell_type": "code",
      "execution_count": null,
      "metadata": {
        "id": "asrrOmAnUakg"
      },
      "outputs": [],
      "source": [
        "word = list(str(input()))\n",
        "if list(reversed(word)) == word:\n",
        "    print(1)\n",
        "else:\n",
        "    print(0)"
      ]
    },
    {
      "cell_type": "markdown",
      "metadata": {
        "id": "UedBVQUtU0tY"
      },
      "source": [
        "1157"
      ]
    },
    {
      "cell_type": "code",
      "execution_count": null,
      "metadata": {
        "id": "nKMAuyuzU1dW"
      },
      "outputs": [],
      "source": [
        "word = input().upper()\n",
        "word_list = list(set(word))\n",
        "list = []\n",
        "\n",
        "for i in word_list:\n",
        "    count = word.count(i)\n",
        "    list.append(count)\n",
        "\n",
        "if list.count(max(list))>= 2:\n",
        "    print(\"?\")\n",
        "else:\n",
        "    print(word_list[list.index(max(list))])"
      ]
    },
    {
      "cell_type": "markdown",
      "metadata": {
        "id": "7ZrfYA_uVFTI"
      },
      "source": [
        "2941"
      ]
    },
    {
      "cell_type": "code",
      "execution_count": null,
      "metadata": {
        "id": "48L-2zlwVFtQ"
      },
      "outputs": [],
      "source": [
        "croatia = ['c=', 'c-', 'dz=', 'd-', 'lj', 'nj', 's=', 'z=']\n",
        "word = input()\n",
        "\n",
        "for i in croatia :\n",
        "    word = word.replace(i, '*')\n",
        "print(len(word))"
      ]
    },
    {
      "cell_type": "markdown",
      "metadata": {
        "id": "v9sqcWN4VZOU"
      },
      "source": [
        "1316"
      ]
    },
    {
      "cell_type": "code",
      "execution_count": null,
      "metadata": {
        "id": "zcbVtrzwVZiB"
      },
      "outputs": [],
      "source": [
        "num = int(input())\n",
        "cnt = num\n",
        "\n",
        "for i in range(num):\n",
        "    word = input()\n",
        "    for j in range(0, len(word)-1):\n",
        "        if word[j] == word[j+1]:\n",
        "            pass\n",
        "        elif word[j] in word[j+1:]:\n",
        "            cnt -= 1\n",
        "            break\n",
        "print(cnt)"
      ]
    },
    {
      "cell_type": "markdown",
      "metadata": {
        "id": "6lu7NH4fV-tQ"
      },
      "source": [
        "25206"
      ]
    },
    {
      "cell_type": "code",
      "execution_count": null,
      "metadata": {
        "id": "bNTCvPuLV_EJ"
      },
      "outputs": [],
      "source": [
        "import sys\n",
        "\n",
        "grade = ['A+','A0','B+','B0','C+','C0','D+','D0','F']\n",
        "score = [4.5, 4.0, 3.5, 3.0, 2.5, 2.0, 1.5, 1.0, 0.0]\n",
        "\n",
        "total = 0\n",
        "total_score = 0\n",
        "for i in range(20):\n",
        "    A= list(sys.stdin.readline().split())\n",
        "    if A[2]!='P':\n",
        "        total_score+= score[grade.index(A[2])] * float(A[1])\n",
        "        total += float(A[1])\n",
        "print(total_score/total)"
      ]
    }
  ],
  "metadata": {
    "colab": {
      "private_outputs": true,
      "provenance": []
    },
    "kernelspec": {
      "display_name": "Python 3",
      "name": "python3"
    },
    "language_info": {
      "name": "python"
    }
  },
  "nbformat": 4,
  "nbformat_minor": 0
}
